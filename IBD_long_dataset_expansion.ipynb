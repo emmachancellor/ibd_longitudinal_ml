{
 "cells": [
  {
   "cell_type": "markdown",
   "metadata": {},
   "source": [
    "### Implementing a Combined Linear Interpolation and Weighted KNN Imputation"
   ]
  },
  {
   "cell_type": "code",
   "execution_count": 2,
   "metadata": {},
   "outputs": [],
   "source": [
    "import pandas as pd\n",
    "import numpy as np\n",
    "import matplotlib\n",
    "import seaborn as sns\n",
    "import matplotlib\n",
    "import matplotlib.pyplot as plt\n",
    "import time\n"
   ]
  },
  {
   "cell_type": "markdown",
   "metadata": {},
   "source": [
    "How to evaluate the linear interpolation vs. the Weighted KNN? <br><br>\n",
    "1. Create a masked dataset\n",
    "2. Create an interpolated dataset\n",
    "3. Iterate through the original dataset and if a cell has a value in the original dataset but this value is 'nan' in\n",
    "the masked dataset, then use this indices to check the value in the INTERPOLATED dataset.\n",
    "4. Add the interpolated value to another dataset that contains just the interpolated masked values.\n",
    "5. Find the sum of the lab values in the original dataset (column wise) and in the masked dataset.\n",
    "6. Find the difference between the value in the original dataset and the masked dataset. This calculates the value of the masked data.\n",
    "7. Find the sum of the interpolated masked values (column wise)\n",
    "8. Compare the sum of the ground truth masked values to the interpolated masked values with a t-test. "
   ]
  },
  {
   "cell_type": "markdown",
   "metadata": {},
   "source": [
    "If it is necessary to make a dataframe where each row represents one time point, this could be achieved by:\n",
    "- Making a dataframe that drops all but one of the time points (i.e. df1, df2, df3, df4, and df5 where each df has the values for the 1,2,3,4,5 visits respectively)\n",
    "- Combine/stack these dataframes "
   ]
  },
  {
   "cell_type": "markdown",
   "metadata": {},
   "source": [
    "### Expand the Dataset: Each Time Point Has a Row"
   ]
  },
  {
   "cell_type": "markdown",
   "metadata": {},
   "source": [
    "First, need to transform the dataset so that there is one time point per row for each patient, meaning each patient will have five rows. "
   ]
  },
  {
   "cell_type": "code",
   "execution_count": 4,
   "metadata": {},
   "outputs": [],
   "source": [
    "# Load datasets\n",
    "ibd_labs = pd.read_csv('/Users/emmadyer/Desktop/long_ibd_data/data/ibd_reduced.csv')\n",
    "healthy_labs = pd.read_csv('/Users/emmadyer/Desktop/long_ibd_data/data/healthy_reduced.csv')\n",
    "\n",
    "all_labs = pd.concat([ibd_labs, healthy_labs], axis=0)"
   ]
  },
  {
   "cell_type": "code",
   "execution_count": 5,
   "metadata": {},
   "outputs": [
    {
     "name": "stderr",
     "output_type": "stream",
     "text": [
      "/var/folders/ps/bqjzsfrx7m586gbdsy_96rpm0000gn/T/ipykernel_81288/4289771171.py:24: SettingWithCopyWarning: \n",
      "A value is trying to be set on a copy of a slice from a DataFrame.\n",
      "Try using .loc[row_indexer,col_indexer] = value instead\n",
      "\n",
      "See the caveats in the documentation: https://pandas.pydata.org/pandas-docs/stable/user_guide/indexing.html#returning-a-view-versus-a-copy\n",
      "  annual_df['year'] = int(y)\n",
      "/var/folders/ps/bqjzsfrx7m586gbdsy_96rpm0000gn/T/ipykernel_81288/4289771171.py:24: SettingWithCopyWarning: \n",
      "A value is trying to be set on a copy of a slice from a DataFrame.\n",
      "Try using .loc[row_indexer,col_indexer] = value instead\n",
      "\n",
      "See the caveats in the documentation: https://pandas.pydata.org/pandas-docs/stable/user_guide/indexing.html#returning-a-view-versus-a-copy\n",
      "  annual_df['year'] = int(y)\n",
      "/var/folders/ps/bqjzsfrx7m586gbdsy_96rpm0000gn/T/ipykernel_81288/4289771171.py:24: SettingWithCopyWarning: \n",
      "A value is trying to be set on a copy of a slice from a DataFrame.\n",
      "Try using .loc[row_indexer,col_indexer] = value instead\n",
      "\n",
      "See the caveats in the documentation: https://pandas.pydata.org/pandas-docs/stable/user_guide/indexing.html#returning-a-view-versus-a-copy\n",
      "  annual_df['year'] = int(y)\n",
      "/var/folders/ps/bqjzsfrx7m586gbdsy_96rpm0000gn/T/ipykernel_81288/4289771171.py:24: SettingWithCopyWarning: \n",
      "A value is trying to be set on a copy of a slice from a DataFrame.\n",
      "Try using .loc[row_indexer,col_indexer] = value instead\n",
      "\n",
      "See the caveats in the documentation: https://pandas.pydata.org/pandas-docs/stable/user_guide/indexing.html#returning-a-view-versus-a-copy\n",
      "  annual_df['year'] = int(y)\n",
      "/var/folders/ps/bqjzsfrx7m586gbdsy_96rpm0000gn/T/ipykernel_81288/4289771171.py:24: SettingWithCopyWarning: \n",
      "A value is trying to be set on a copy of a slice from a DataFrame.\n",
      "Try using .loc[row_indexer,col_indexer] = value instead\n",
      "\n",
      "See the caveats in the documentation: https://pandas.pydata.org/pandas-docs/stable/user_guide/indexing.html#returning-a-view-versus-a-copy\n",
      "  annual_df['year'] = int(y)\n",
      "/var/folders/ps/bqjzsfrx7m586gbdsy_96rpm0000gn/T/ipykernel_81288/4289771171.py:24: SettingWithCopyWarning: \n",
      "A value is trying to be set on a copy of a slice from a DataFrame.\n",
      "Try using .loc[row_indexer,col_indexer] = value instead\n",
      "\n",
      "See the caveats in the documentation: https://pandas.pydata.org/pandas-docs/stable/user_guide/indexing.html#returning-a-view-versus-a-copy\n",
      "  annual_df['year'] = int(y)\n",
      "/var/folders/ps/bqjzsfrx7m586gbdsy_96rpm0000gn/T/ipykernel_81288/4289771171.py:24: SettingWithCopyWarning: \n",
      "A value is trying to be set on a copy of a slice from a DataFrame.\n",
      "Try using .loc[row_indexer,col_indexer] = value instead\n",
      "\n",
      "See the caveats in the documentation: https://pandas.pydata.org/pandas-docs/stable/user_guide/indexing.html#returning-a-view-versus-a-copy\n",
      "  annual_df['year'] = int(y)\n",
      "/var/folders/ps/bqjzsfrx7m586gbdsy_96rpm0000gn/T/ipykernel_81288/4289771171.py:24: SettingWithCopyWarning: \n",
      "A value is trying to be set on a copy of a slice from a DataFrame.\n",
      "Try using .loc[row_indexer,col_indexer] = value instead\n",
      "\n",
      "See the caveats in the documentation: https://pandas.pydata.org/pandas-docs/stable/user_guide/indexing.html#returning-a-view-versus-a-copy\n",
      "  annual_df['year'] = int(y)\n",
      "/var/folders/ps/bqjzsfrx7m586gbdsy_96rpm0000gn/T/ipykernel_81288/4289771171.py:24: SettingWithCopyWarning: \n",
      "A value is trying to be set on a copy of a slice from a DataFrame.\n",
      "Try using .loc[row_indexer,col_indexer] = value instead\n",
      "\n",
      "See the caveats in the documentation: https://pandas.pydata.org/pandas-docs/stable/user_guide/indexing.html#returning-a-view-versus-a-copy\n",
      "  annual_df['year'] = int(y)\n",
      "/var/folders/ps/bqjzsfrx7m586gbdsy_96rpm0000gn/T/ipykernel_81288/4289771171.py:24: SettingWithCopyWarning: \n",
      "A value is trying to be set on a copy of a slice from a DataFrame.\n",
      "Try using .loc[row_indexer,col_indexer] = value instead\n",
      "\n",
      "See the caveats in the documentation: https://pandas.pydata.org/pandas-docs/stable/user_guide/indexing.html#returning-a-view-versus-a-copy\n",
      "  annual_df['year'] = int(y)\n",
      "/var/folders/ps/bqjzsfrx7m586gbdsy_96rpm0000gn/T/ipykernel_81288/4289771171.py:24: SettingWithCopyWarning: \n",
      "A value is trying to be set on a copy of a slice from a DataFrame.\n",
      "Try using .loc[row_indexer,col_indexer] = value instead\n",
      "\n",
      "See the caveats in the documentation: https://pandas.pydata.org/pandas-docs/stable/user_guide/indexing.html#returning-a-view-versus-a-copy\n",
      "  annual_df['year'] = int(y)\n",
      "/var/folders/ps/bqjzsfrx7m586gbdsy_96rpm0000gn/T/ipykernel_81288/4289771171.py:24: SettingWithCopyWarning: \n",
      "A value is trying to be set on a copy of a slice from a DataFrame.\n",
      "Try using .loc[row_indexer,col_indexer] = value instead\n",
      "\n",
      "See the caveats in the documentation: https://pandas.pydata.org/pandas-docs/stable/user_guide/indexing.html#returning-a-view-versus-a-copy\n",
      "  annual_df['year'] = int(y)\n",
      "/var/folders/ps/bqjzsfrx7m586gbdsy_96rpm0000gn/T/ipykernel_81288/4289771171.py:24: SettingWithCopyWarning: \n",
      "A value is trying to be set on a copy of a slice from a DataFrame.\n",
      "Try using .loc[row_indexer,col_indexer] = value instead\n",
      "\n",
      "See the caveats in the documentation: https://pandas.pydata.org/pandas-docs/stable/user_guide/indexing.html#returning-a-view-versus-a-copy\n",
      "  annual_df['year'] = int(y)\n",
      "/var/folders/ps/bqjzsfrx7m586gbdsy_96rpm0000gn/T/ipykernel_81288/4289771171.py:24: SettingWithCopyWarning: \n",
      "A value is trying to be set on a copy of a slice from a DataFrame.\n",
      "Try using .loc[row_indexer,col_indexer] = value instead\n",
      "\n",
      "See the caveats in the documentation: https://pandas.pydata.org/pandas-docs/stable/user_guide/indexing.html#returning-a-view-versus-a-copy\n",
      "  annual_df['year'] = int(y)\n",
      "/var/folders/ps/bqjzsfrx7m586gbdsy_96rpm0000gn/T/ipykernel_81288/4289771171.py:24: SettingWithCopyWarning: \n",
      "A value is trying to be set on a copy of a slice from a DataFrame.\n",
      "Try using .loc[row_indexer,col_indexer] = value instead\n",
      "\n",
      "See the caveats in the documentation: https://pandas.pydata.org/pandas-docs/stable/user_guide/indexing.html#returning-a-view-versus-a-copy\n",
      "  annual_df['year'] = int(y)\n"
     ]
    }
   ],
   "source": [
    "labs = [ibd_labs, healthy_labs, all_labs]\n",
    "expand_labs = []\n",
    "new_col_names = ['patient_id', 'ibd_disease_code']\n",
    "years = ['1','2','3','4','5']\n",
    "ids = ['patient_id', 'ibd_disease_code']\n",
    "col_lst = list(ibd_labs.columns.values)\n",
    "\n",
    "for l in labs:\n",
    "    annual_data = []\n",
    "    for y in years:\n",
    "        column_names = ['patient_id', 'ibd_disease_code']\n",
    "        new_col_names = ['patient_id', 'ibd_disease_code']\n",
    "        for c in col_lst:\n",
    "            if y in c:\n",
    "                column_names.append(c)\n",
    "        annual_df = l[column_names]\n",
    "        # Rename column header to remove the year\n",
    "        for n in column_names:\n",
    "            if y in n:\n",
    "                new_name = n[:-1]\n",
    "                new_col_names.append(new_name)\n",
    "        annual_df.columns = new_col_names\n",
    "        # Add a column keeping track of the year \n",
    "        annual_df['year'] = int(y)\n",
    "        #print(len(list(annual_df.columns.values)))\n",
    "        annual_data.append(annual_df)\n",
    "\n",
    "    expand_df = pd.concat(annual_data)\n",
    "    expand_labs.append(expand_df)"
   ]
  },
  {
   "cell_type": "code",
   "execution_count": 11,
   "metadata": {},
   "outputs": [],
   "source": [
    "ibd_expanded = expand_labs[0]\n",
    "healthy_expanded = expand_labs[1]\n",
    "all_expanded = expand_labs[2]\n",
    "\n",
    "all_expanded.to_csv('/Users/emmadyer/Desktop/long_ibd_data/data/all_expanded.csv')\n",
    "\n",
    "# Separate UC and CD\n",
    "cd_expanded = ibd_expanded.loc[ibd_expanded['ibd_disease_code'] == 1]\n",
    "uc_expanded = ibd_expanded.loc[ibd_expanded['ibd_disease_code'] == 2]\n",
    "\n",
    "# Export All IBD data (keeping the disease code)\n",
    "#ibd_expanded.to_csv('/Users/emmadyer/Desktop/ibd_long_project/data/ibd_expanded.csv', index=False)\n",
    "\n",
    "# Drop the desease code\n",
    "cd_expanded = cd_expanded.drop('ibd_disease_code', axis=1)\n",
    "uc_expanded = uc_expanded.drop('ibd_disease_code', axis=1)\n",
    "healthy_expanded = healthy_expanded.drop('ibd_disease_code', axis=1)"
   ]
  },
  {
   "cell_type": "code",
   "execution_count": 12,
   "metadata": {},
   "outputs": [],
   "source": [
    "# Export to CSV without disease code\n",
    "cd_expanded.to_csv('/Users/emmadyer/Desktop/ibd_long_project/data/cd_expanded.csv', index=False)\n",
    "uc_expanded.to_csv('/Users/emmadyer/Desktop/ibd_long_project/data/uc_expanded.csv', index=False)\n",
    "healthy_expanded.to_csv('/Users/emmadyer/Desktop/ibd_long_project/data/healthy_expanded.csv', index=False)"
   ]
  }
 ],
 "metadata": {
  "kernelspec": {
   "display_name": "py39",
   "language": "python",
   "name": "python3"
  },
  "language_info": {
   "codemirror_mode": {
    "name": "ipython",
    "version": 3
   },
   "file_extension": ".py",
   "mimetype": "text/x-python",
   "name": "python",
   "nbconvert_exporter": "python",
   "pygments_lexer": "ipython3",
   "version": "3.9.13"
  },
  "orig_nbformat": 4,
  "vscode": {
   "interpreter": {
    "hash": "819f5faae82d2b37d0a346b6fdcf3a45ded9957c5c76ee733e99f4e9e472ef0d"
   }
  }
 },
 "nbformat": 4,
 "nbformat_minor": 2
}
