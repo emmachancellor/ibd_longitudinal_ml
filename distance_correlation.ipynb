{
 "cells": [
  {
   "cell_type": "code",
   "execution_count": 13,
   "metadata": {},
   "outputs": [],
   "source": [
    "import pandas as pd\n",
    "import numpy as np\n",
    "import seaborn as sns\n",
    "import dcor \n",
    "from sklearn.preprocessing import MinMaxScaler"
   ]
  },
  {
   "cell_type": "code",
   "execution_count": 15,
   "metadata": {},
   "outputs": [],
   "source": [
    "means = pd.read_csv('/Users/emmadyer/Desktop/data/ibd_means_col.csv')\n",
    "reverse_means = pd.read_csv('/Users/emmadyer/Desktop/data/ibd_means_reverse.csv')\n",
    "\n",
    "#means = means.to_numpy()\n",
    "#reverse_means = reverse_means.to_numpy()"
   ]
  },
  {
   "cell_type": "code",
   "execution_count": 17,
   "metadata": {},
   "outputs": [],
   "source": [
    "scaler = MinMaxScaler()\n",
    "scaled_means = pd.DataFrame(scaler.fit_transform(means), columns=means.columns)\n",
    "scaled_reverse_means = pd.DataFrame(scaler.fit_transform(reverse_means), columns=reverse_means.columns)\n",
    "\n",
    "a_scaled_means = scaled_means.to_numpy()\n",
    "a_scaled_reverse_means = scaled_reverse_means.to_numpy()"
   ]
  },
  {
   "cell_type": "code",
   "execution_count": 6,
   "metadata": {},
   "outputs": [],
   "source": [
    "distcor = dcor.rowwise(dcor.distance_correlation, means, reverse_means)"
   ]
  },
  {
   "cell_type": "code",
   "execution_count": 18,
   "metadata": {},
   "outputs": [],
   "source": [
    "pairdist = dcor.distances.pairwise_distances(a_scaled_means)"
   ]
  },
  {
   "cell_type": "markdown",
   "metadata": {},
   "source": [
    "### Calculate the Distance Correlation\n",
    "1. Create a separate dataframe of every lab, meaning a dataframe with one column and X patient rows. \n",
    "2. Loop through each lab value, comparing each lab to one another. In the process, store each calculate distance "
   ]
  },
  {
   "cell_type": "markdown",
   "metadata": {},
   "source": []
  }
 ],
 "metadata": {
  "kernelspec": {
   "display_name": "Python 3.9.13 ('py39')",
   "language": "python",
   "name": "python3"
  },
  "language_info": {
   "codemirror_mode": {
    "name": "ipython",
    "version": 3
   },
   "file_extension": ".py",
   "mimetype": "text/x-python",
   "name": "python",
   "nbconvert_exporter": "python",
   "pygments_lexer": "ipython3",
   "version": "3.9.13"
  },
  "orig_nbformat": 4,
  "vscode": {
   "interpreter": {
    "hash": "819f5faae82d2b37d0a346b6fdcf3a45ded9957c5c76ee733e99f4e9e472ef0d"
   }
  }
 },
 "nbformat": 4,
 "nbformat_minor": 2
}
