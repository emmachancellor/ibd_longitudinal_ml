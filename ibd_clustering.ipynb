{
 "cells": [
  {
   "cell_type": "code",
   "execution_count": null,
   "metadata": {},
   "outputs": [],
   "source": [
    "# Basic packages\n",
    "import numpy as np\n",
    "import pandas as pd\n",
    "from sklearn import preprocessing\n",
    "import matplotlib.pyplot as plt\n",
    "import seaborn as sns\n",
    "\n",
    "# UMAP packages\n",
    "import umap.umap_ as umap\n",
    "from sklearn.decomposition import PCA\n",
    "import sklearn.cluster as cluster\n",
    "from sklearn.metrics import adjusted_rand_score, adjusted_mutual_info_score"
   ]
  },
  {
   "cell_type": "markdown",
   "metadata": {},
   "source": [
    "#### Population Level Unsupervised Clustering\n",
    "- Min-max normalization of these data occurred at the population level, meaning the minimum and maximum values used to normalize across each population (healthy, CD, UC) were those across the whole cohort. "
   ]
  },
  {
   "cell_type": "code",
   "execution_count": null,
   "metadata": {},
   "outputs": [],
   "source": [
    "# Load Dataset\n",
    "pop_all_labs = pd.read_csv('/Users/emmadyer/Desktop/ibd_long_project/data/pop_all_labs_imputed.csv')\n",
    "\n",
    "# IBD and Healthy Patients\n",
    "# Healthy-0, IBD-1\n",
    "ibd_vs_healthy = pop_all_labs.copy()\n",
    "ibd_vs_healthy['ibd_disease_code'] = ibd_vs_healthy['ibd_disease_code'].replace([2], 1)\n",
    "ibd_vs_healthy = ibd_vs_healthy.drop('patient_id', axis=1)"
   ]
  },
  {
   "cell_type": "code",
   "execution_count": null,
   "metadata": {},
   "outputs": [],
   "source": [
    "# Generate UMAP\n",
    "healthy_ibd_reducer = umap.UMAP()\n",
    "\n",
    "healthy_ibd = ibd_vs_healthy.iloc[:, :-1]\n",
    "em_healthy_ibd = healthy_ibd_reducer.fit_transform(healthy_ibd)\n",
    "em_healthy_ibd.shape"
   ]
  },
  {
   "cell_type": "code",
   "execution_count": null,
   "metadata": {},
   "outputs": [],
   "source": [
    "# Plot UMAP: IBD vs. Healthy Patients\n",
    "\n",
    "healthy = em_healthy_ibd[:,0]\n",
    "ibd = em_healthy_ibd[:,1]\n",
    "group = ibd_vs_healthy.ibd_disease_code\n",
    "color_dict = {1:'tomato', 0:'deepskyblue'}\n",
    "labels = {0:'Healthy', 1:'IBD'}\n",
    "\n",
    "fig, ax = plt.subplots()\n",
    "for i, g in enumerate(np.unique(group)):\n",
    "    ix = np.where(group == g)\n",
    "    ax.scatter(healthy[ix], ibd[ix], c=color_dict[g], label=labels[g], s=0.1)\n",
    "ax.legend(markerscale=13)\n",
    "plt.gca().set_aspect('equal', 'datalim')\n",
    "plt.title('UMAP of Healthy and IBD Patients', fontsize=16)\n",
    "plt.xlabel('UMAP1')\n",
    "plt.ylabel('UMAP2')\n",
    "plt.savefig('/Users/emmadyer/Desktop/ibd_long_project/figures/healthy_ibd_UMAP', dpi=300)\n",
    "    "
   ]
  },
  {
   "cell_type": "code",
   "execution_count": null,
   "metadata": {},
   "outputs": [],
   "source": [
    "# UC and CD Patients\n",
    "# UC-0, CD-1\n",
    "uc_vs_cd = pop_all_labs.copy()\n",
    "ibd_codes = [1,2]\n",
    "uc_vs_cd = uc_vs_cd[uc_vs_cd['ibd_disease_code'].isin(ibd_codes)]\n",
    "uc_vs_cd['ibd_disease_code'] = uc_vs_cd['ibd_disease_code'].replace([2], 0)\n",
    "uc_vs_cd = uc_vs_cd.drop('patient_id', axis=1)"
   ]
  },
  {
   "cell_type": "code",
   "execution_count": null,
   "metadata": {},
   "outputs": [],
   "source": [
    "# Generate UMAP\n",
    "uc_cd_reducer = umap.UMAP()\n",
    "\n",
    "uc_cd = uc_vs_cd.iloc[:, :-1]\n",
    "em_uc_cd = uc_cd_reducer.fit_transform(uc_cd)\n",
    "em_uc_cd.shape"
   ]
  },
  {
   "cell_type": "code",
   "execution_count": null,
   "metadata": {},
   "outputs": [],
   "source": [
    "# Plot UMAP: UC vs. CD Patients\n",
    "\n",
    "uc = em_uc_cd[:,0]\n",
    "cd = em_uc_cd[:,1]\n",
    "group = uc_vs_cd.ibd_disease_code\n",
    "color_dict = {1:'mediumorchid', 0:'darkorange'}\n",
    "labels = {0:'Ulcerative Colitis', 1:\"Crohn's Disease\"}\n",
    "\n",
    "fig, ax = plt.subplots()\n",
    "for g in np.unique(group):\n",
    "    ix = np.where(group == g)\n",
    "    ax.scatter(uc[ix], cd[ix], c=color_dict[g], label=labels[g], s=6)\n",
    "ax.legend(markerscale=3)\n",
    "plt.gca().set_aspect('equal', 'datalim')\n",
    "\n",
    "plt.title(\"UMAP of Ulcerative Colitis and Crohn's Disease Patients\", fontsize=13)\n",
    "plt.xlabel('UMAP1')\n",
    "plt.ylabel('UMAP2')\n",
    "plt.savefig('/Users/emmadyer/Desktop/ibd_long_project/figures/uc_cd_UMAP', dpi=300)\n",
    "   "
   ]
  }
 ],
 "metadata": {
  "kernelspec": {
   "display_name": "Python 3.9.7 ('base')",
   "language": "python",
   "name": "python3"
  },
  "language_info": {
   "codemirror_mode": {
    "name": "ipython",
    "version": 3
   },
   "file_extension": ".py",
   "mimetype": "text/x-python",
   "name": "python",
   "nbconvert_exporter": "python",
   "pygments_lexer": "ipython3",
   "version": "3.9.7"
  },
  "orig_nbformat": 4,
  "vscode": {
   "interpreter": {
    "hash": "96711745bd135041bebdc69b11ade48cf4fd7c95d608ba6b7c632f4af2a4dfe1"
   }
  }
 },
 "nbformat": 4,
 "nbformat_minor": 2
}
