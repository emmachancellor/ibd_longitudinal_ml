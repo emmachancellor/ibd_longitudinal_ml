{
 "cells": [
  {
   "cell_type": "markdown",
   "metadata": {},
   "source": [
    "### ML Classification Models"
   ]
  },
  {
   "cell_type": "markdown",
   "metadata": {},
   "source": [
    "#### Models to Test\n",
    "- Random Forest Classifier [RandomForestClassifier]\n",
    "- XGBoost [GradientBoostingClassifier]\n",
    "- Logistic Regression [LogisticRegression]\n",
    "- Linear Regression [LinearRegression]\n",
    "- CART (Classsification and Regression Trees) [tree.DecisionTreeClassifier]\n"
   ]
  },
  {
   "cell_type": "code",
   "execution_count": null,
   "metadata": {},
   "outputs": [],
   "source": [
    "# Basic packages\n",
    "import numpy as np\n",
    "import pandas as pd\n",
    "from sklearn import preprocessing\n",
    "import matplotlib.pyplot as plt\n",
    "import seaborn as sns\n",
    "\n",
    "#Models\n",
    "from matplotlib.colors import ListedColormap\n",
    "from sklearn.model_selection import train_test_split\n",
    "from sklearn.preprocessing import StandardScaler\n",
    "from sklearn.datasets import make_moons, make_circles, make_classification\n",
    "from sklearn.neural_network import MLPClassifier\n",
    "from sklearn.neighbors import KNeighborsClassifier\n",
    "from sklearn.svm import SVC\n",
    "from sklearn.gaussian_process import GaussianProcessClassifier\n",
    "from sklearn.gaussian_process.kernels import RBF\n",
    "from sklearn.tree import DecisionTreeClassifier\n",
    "from sklearn.ensemble import AdaBoostClassifier\n",
    "from sklearn.naive_bayes import GaussianNB\n",
    "from sklearn.discriminant_analysis import QuadraticDiscriminantAnalysis\n",
    "from sklearn.metrics import accuracy_score \n",
    "from sklearn.metrics import roc_auc_score\n",
    "from sklearn.ensemble import RandomForestClassifier\n",
    "from sklearn.ensemble import GradientBoostingClassifier\n",
    "from sklearn.metrics import RocCurveDisplay\n",
    "from sklearn.ensemble import HistGradientBoostingClassifier\n",
    "\n",
    "from sklearn.linear_model import LogisticRegression\n",
    "from sklearn.linear_model import LogisticRegressionCV\n",
    "from sklearn.linear_model import LinearRegression\n",
    "\n",
    "from sklearn.ensemble import GradientBoostingRegressor\n",
    "from sklearn.ensemble import RandomForestRegressor\n",
    "from sklearn import tree\n",
    "\n",
    "from sklearn.preprocessing import StandardScaler\n",
    "\n",
    "from sklearn.metrics import r2_score\n",
    "from sklearn.metrics import mean_absolute_error, mean_squared_error\n",
    "\n",
    "from sklearn.metrics import classification_report,confusion_matrix\n",
    "import itertools\n",
    "import shap"
   ]
  },
  {
   "cell_type": "code",
   "execution_count": null,
   "metadata": {},
   "outputs": [],
   "source": [
    "# Import Data and Create DataFrames\n",
    "all_labs = pd.read_csv('/Users/emmadyer/Desktop/ibd_long_project/data/ind_all_labs_imputed.csv')\n",
    "\n",
    "# IBD and Healthy Patients\n",
    "# Healthy-0, IBD-1\n",
    "ibd_vs_healthy = all_labs.copy()\n",
    "ibd_vs_healthy['ibd_disease_code'] = ibd_vs_healthy['ibd_disease_code'].replace([2], 1)\n",
    "ibd_vs_healthy = ibd_vs_healthy.drop('patient_id', axis=1)\n",
    "\n",
    "# UC and CD Patients\n",
    "# UC-0, CD-1\n",
    "uc_vs_cd = all_labs.copy()\n",
    "ibd_codes = [1,2]\n",
    "uc_vs_cd = uc_vs_cd[uc_vs_cd['ibd_disease_code'].isin(ibd_codes)]\n",
    "uc_vs_cd['ibd_disease_code'] = uc_vs_cd['ibd_disease_code'].replace([2], 0)\n",
    "uc_vs_cd = uc_vs_cd.drop('patient_id', axis=1)\n",
    "\n",
    "# CD and Healthy Patients\n",
    "# Healthy-0, CD-1\n",
    "cd_vs_healthy = all_labs.copy()\n",
    "cd_healthy_codes = [1,0]\n",
    "cd_vs_healthy = cd_vs_healthy[cd_vs_healthy['ibd_disease_code'].isin(cd_healthy_codes)]\n",
    "cd_vs_healthy = cd_vs_healthy.drop('patient_id', axis=1)\n",
    "\n",
    "# UC and Healthy Patients\n",
    "# Healthy-0, UC-1\n",
    "uc_vs_healthy = all_labs.copy()\n",
    "uc_healthy_codes = [2,0]\n",
    "uc_vs_healthy = uc_vs_healthy[uc_vs_healthy['ibd_disease_code'].isin(uc_healthy_codes)]\n",
    "uc_vs_healthy['ibd_disease_code'] = uc_vs_healthy['ibd_disease_code'].replace([2], 1)\n",
    "uc_vs_healthy = uc_vs_healthy.drop('patient_id', axis=1)"
   ]
  },
  {
   "cell_type": "code",
   "execution_count": null,
   "metadata": {},
   "outputs": [],
   "source": [
    "all_healthy = all_labs.loc[all_labs['ibd_disease_code']==0]"
   ]
  },
  {
   "cell_type": "markdown",
   "metadata": {},
   "source": [
    "### Random Forest Classifier (with CRP)"
   ]
  },
  {
   "cell_type": "code",
   "execution_count": null,
   "metadata": {},
   "outputs": [],
   "source": [
    "# X = data to train on \n",
    "# y = outcome of interest ('target')\n",
    "\n",
    "X = ibd_vs_healthy.iloc[:, :-1]\n",
    "X = X.fillna(0)\n",
    "y = ibd_vs_healthy.loc[:, 'ibd_disease_code']\n",
    "X_col_names = list(ibd_vs_healthy.columns.values)\n",
    "X_col_names = X_col_names[:-1]\n",
    "y_col_name = ['disease_code']\n",
    "\n",
    "# Train/Test Split\n",
    "X_train, X_test, y_train, y_test = train_test_split(\n",
    "    X, y, test_size=0.25, random_state=42)"
   ]
  },
  {
   "cell_type": "code",
   "execution_count": null,
   "metadata": {},
   "outputs": [],
   "source": [
    "# Random Forest Classifier\n",
    "\n",
    "\n",
    "# Identify the best number of trees\n",
    "# n_estimators = list(range(10,1000,50))\n",
    "# Best Number of Estimators: 160\n",
    "# Best Number of Max Features: 9\n",
    "\n",
    "n_estimators = list(range(1,20,1))\n",
    "\n",
    "rfcs = []\n",
    "for n in n_estimators:\n",
    "    rfc = RandomForestClassifier(random_state=42, n_estimators=160, max_features=9)\n",
    "    rfc.fit(X_train, y_train)\n",
    "    rfcs.append(rfc)\n",
    "\n",
    "train_accuracy = [rfc.score(X_train, y_train) for rfc in rfcs]\n",
    "test_accuracy = [rfc.score(X_test, y_test) for rfc in rfcs]\n",
    "\n",
    "# Identify where the test error is minimized\n",
    "best_n_estimators = n_estimators[np.argmax(test_accuracy)]\n",
    "rfc_best_train_accuracy = train_accuracy[np.argmax(test_accuracy)]\n",
    "rfc_best_test_accuracy = test_accuracy[np.argmax(test_accuracy)]\n",
    "\n",
    "print(f\"The n_estimators value that maximizes the test set accuracy is: {best_n_estimators}\")\n",
    "print(\"Train Accuracy: \", rfc_best_train_accuracy)\n",
    "print(\"Test Accuracy: \", rfc_best_test_accuracy)\n",
    "\n",
    "\n",
    "        \n"
   ]
  },
  {
   "cell_type": "code",
   "execution_count": null,
   "metadata": {},
   "outputs": [],
   "source": [
    "rfc = RandomForestClassifier(random_state=42, n_estimators=160, max_features=9)\n",
    "rfc.fit(X_train, y_train)\n",
    "feat_imp_df = pd.DataFrame({'feature': X_col_names\n",
    "                              ,'importance': rfc.feature_importances_})\\\n",
    "                            .sort_values('importance', ascending=False)\n",
    "\n"
   ]
  },
  {
   "cell_type": "markdown",
   "metadata": {},
   "source": [
    "### Feature Importance IBD vs. Healthy (with CRP)"
   ]
  },
  {
   "cell_type": "code",
   "execution_count": null,
   "metadata": {},
   "outputs": [],
   "source": [
    "df = ibd_vs_healthy\n",
    "\n",
    "X = df.iloc[:, :-1]\n",
    "X = X.fillna(0)\n",
    "y = df.loc[:, 'ibd_disease_code']\n",
    "X_col_names = list(df.columns.values)\n",
    "X_col_names = X_col_names[:-1]\n",
    "y_col_name = ['disease_code']\n",
    "\n",
    "X_train, X_test, y_train, y_test = train_test_split(\n",
    "    X, y, test_size=0.25, random_state=42)\n",
    "\n",
    "rfc = RandomForestClassifier(random_state=42, n_estimators=160, max_features=5, max_depth=5, min_samples_leaf=10)\n",
    "rfc.fit(X_train, y_train)\n",
    "\n",
    "feat_imp_df = pd.DataFrame({'feature': X_col_names\n",
    "                              ,'importance': rfc.feature_importances_})\\\n",
    "                            .sort_values('importance', ascending=False)\n",
    "\n",
    "\n",
    "sns.set_style('darkgrid')\n",
    "plt.figure(figsize=(10, 6))\n",
    "important_feats = feat_imp_df.sort_values('importance', ascending=False).reset_index()\n",
    "important_feats = important_feats.loc[:25, :]\n",
    "l = sns.barplot(x=important_feats['importance']\n",
    "            , y=important_feats['feature']\n",
    "            , color='purple').set(ylabel= \"Feature\", xlabel= \"Importance\", title=\"Healthy vs. IBD Patient RFC Model Feature Importance (with CRP)\")\n",
    "plt.savefig('/Users/emmadyer/Desktop/ibd_long_project/figures/tree_feature_barplots/healthy_ibd_barplot.png', dpi=300)"
   ]
  },
  {
   "cell_type": "markdown",
   "metadata": {},
   "source": [
    "### Feature Importance UC vs. CD (with CRP)"
   ]
  },
  {
   "cell_type": "code",
   "execution_count": null,
   "metadata": {},
   "outputs": [],
   "source": [
    "df = uc_vs_cd\n",
    "\n",
    "X = df.iloc[:, :-1]\n",
    "X = X.fillna(0)\n",
    "y = df.loc[:, 'ibd_disease_code']\n",
    "X_col_names = list(df.columns.values)\n",
    "X_col_names = X_col_names[:-1]\n",
    "y_col_name = ['disease_code']\n",
    "\n",
    "X_train, X_test, y_train, y_test = train_test_split(\n",
    "    X, y, test_size=0.25, random_state=42)\n",
    "\n",
    "rfc = RandomForestClassifier(random_state=42, n_estimators=160, max_features=5, max_depth=5, min_samples_leaf=10)\n",
    "rfc.fit(X_train, y_train)\n",
    "\n",
    "feat_imp_df = pd.DataFrame({'feature': X_col_names\n",
    "                              ,'importance': rfc.feature_importances_})\\\n",
    "                            .sort_values('importance', ascending=False)\n",
    "\n",
    "sns.set_style('darkgrid')\n",
    "plt.figure(figsize=(10, 6))\n",
    "important_feats = feat_imp_df.sort_values('importance', ascending=False).reset_index()\n",
    "important_feats = important_feats.loc[:25, :]\n",
    "l = sns.barplot(x=important_feats['importance']\n",
    "            , y=important_feats['feature']\n",
    "            , color='green').set(ylabel= \"Feature\", xlabel= \"Importance\", title=\"CD vs. UC Patient RFC Model Feature Importance (with CRP)\")\n",
    "plt.savefig('/Users/emmadyer/Desktop/ibd_long_project/figures/tree_feature_barplots/cd_uc_barplot.png', dpi=300)"
   ]
  },
  {
   "cell_type": "markdown",
   "metadata": {},
   "source": [
    "### Feature Importance UC vs. Healthy (with CRP)"
   ]
  },
  {
   "cell_type": "code",
   "execution_count": null,
   "metadata": {},
   "outputs": [],
   "source": [
    "df = uc_vs_healthy\n",
    "\n",
    "X = df.iloc[:, :-1]\n",
    "X = X.fillna(0)\n",
    "y = df.loc[:, 'ibd_disease_code']\n",
    "X_col_names = list(df.columns.values)\n",
    "X_col_names = X_col_names[:-1]\n",
    "y_col_name = ['disease_code']\n",
    "\n",
    "X_train, X_test, y_train, y_test = train_test_split(\n",
    "    X, y, test_size=0.25, random_state=42)\n",
    "\n",
    "rfc = RandomForestClassifier(random_state=42, n_estimators=160, max_features=5, max_depth=5, min_samples_leaf=10)\n",
    "rfc.fit(X_train, y_train)\n",
    "\n",
    "feat_imp_df = pd.DataFrame({'feature': X_col_names\n",
    "                              ,'importance': rfc.feature_importances_})\\\n",
    "                            .sort_values('importance', ascending=False)\n",
    "\n",
    "sns.set_style('darkgrid')\n",
    "plt.figure(figsize=(10, 6))\n",
    "important_feats = feat_imp_df.sort_values('importance', ascending=False).reset_index()\n",
    "important_feats = important_feats.loc[:25, :]\n",
    "l = sns.barplot(x=important_feats['importance']\n",
    "            , y=important_feats['feature']\n",
    "            , color='blue').set(ylabel= \"Feature\", xlabel= \"Importance\", title=\"UC vs. Healthy Patient RFC Model Feature Importance (with CRP)\")\n",
    "plt.savefig('/Users/emmadyer/Desktop/ibd_long_project/figures/tree_feature_barplots/uc_healthy_barplot.png', dpi=300)"
   ]
  },
  {
   "cell_type": "markdown",
   "metadata": {},
   "source": [
    "### Feature Importance CD vs. Healthy (with CRP)"
   ]
  },
  {
   "cell_type": "code",
   "execution_count": null,
   "metadata": {},
   "outputs": [],
   "source": [
    "df = cd_vs_healthy\n",
    "\n",
    "X = df.iloc[:, :-1]\n",
    "X = X.fillna(0)\n",
    "y = df.loc[:, 'ibd_disease_code']\n",
    "X_col_names = list(df.columns.values)\n",
    "X_col_names = X_col_names[:-1]\n",
    "y_col_name = ['disease_code']\n",
    "\n",
    "X_train, X_test, y_train, y_test = train_test_split(\n",
    "    X, y, test_size=0.25, random_state=42)\n",
    "\n",
    "rfc = RandomForestClassifier(random_state=42, n_estimators=160, max_features=5, max_depth=5, min_samples_leaf=10)\n",
    "rfc.fit(X_train, y_train)\n",
    "\n",
    "feat_imp_df = pd.DataFrame({'feature': X_col_names\n",
    "                              ,'importance': rfc.feature_importances_})\\\n",
    "                            .sort_values('importance', ascending=False)\n",
    "\n",
    "sns.set_style('darkgrid')\n",
    "plt.figure(figsize=(10, 6))\n",
    "important_feats = feat_imp_df.sort_values('importance', ascending=False).reset_index()\n",
    "important_feats = important_feats.loc[:25, :]\n",
    "l = sns.barplot(x=important_feats['importance']\n",
    "            , y=important_feats['feature']\n",
    "            , color='pink').set(ylabel= \"Feature\", xlabel= \"Importance\", title=\"CD vs. Healthy Patient RFC Model Feature Importance (with CRP)\")\n",
    "plt.savefig('/Users/emmadyer/Desktop/ibd_long_project/figures/tree_feature_barplots/cd_healthy_barplot.png', dpi=300)"
   ]
  },
  {
   "cell_type": "code",
   "execution_count": null,
   "metadata": {},
   "outputs": [],
   "source": [
    "explainer = shap.TreeExplainer(rfc)\n",
    "shap_values = explainer.shap_values(X_train, y_train)\n",
    "shap.summary_plot(shap_values, X_train)"
   ]
  },
  {
   "cell_type": "code",
   "execution_count": null,
   "metadata": {},
   "outputs": [],
   "source": [
    "# clean up the shap values to be more readable\n",
    "shap_val_df = pd.DataFrame(shap_values)\n",
    "shap_val_df.columns = X_col_names\n",
    "shap_val_df.head()"
   ]
  },
  {
   "cell_type": "markdown",
   "metadata": {},
   "source": [
    "### All Random Forest Classifier AUROC (with CRP)"
   ]
  },
  {
   "cell_type": "code",
   "execution_count": null,
   "metadata": {},
   "outputs": [],
   "source": [
    "# Test Random Forest on All Datasets\n",
    "rfcs = []\n",
    "all_dfs = [ibd_vs_healthy, uc_vs_cd, cd_vs_healthy, uc_vs_healthy]\n",
    "names = ['IBD vs. Healthy', 'UC vs. CD', 'CD vs. Healthy', 'UC vs Healthy']\n",
    "for i, df in enumerate(all_dfs):\n",
    "    X = df.iloc[:, :-1]\n",
    "    X = X.fillna(0)\n",
    "    y = df.loc[:, 'ibd_disease_code']\n",
    "    X_col_names = list(df.columns.values)\n",
    "    X_col_names = X_col_names[:-1]\n",
    "    y_col_name = ['disease_code']\n",
    "\n",
    "    # Train/Test Split\n",
    "    X_train, X_test, y_train, y_test = train_test_split(\n",
    "        X, y, test_size=0.25, random_state=42)\n",
    "    \n",
    "    rfc = RandomForestClassifier(random_state=42, n_estimators=160, max_features=5, max_depth=5, min_samples_leaf=10)\n",
    "    rfc.fit(X_train, y_train)\n",
    "    rfcs.append(rfc)\n",
    "    ax = plt.gca()\n",
    "    rfc_disp = RocCurveDisplay.from_estimator(rfc, X_test, y_test, ax=ax, name=names[i], alpha=0.8)\n",
    "    #rfc_disp.plot(ax=ax, alpha=0.8)\n",
    "plt.show()\n"
   ]
  },
  {
   "cell_type": "markdown",
   "metadata": {},
   "source": [
    "### Random Forest Classifier (without CRP)"
   ]
  },
  {
   "cell_type": "code",
   "execution_count": null,
   "metadata": {},
   "outputs": [],
   "source": [
    "original = [ibd_vs_healthy, uc_vs_cd, cd_vs_healthy, uc_vs_healthy]\n",
    "all_dfs = []\n",
    "# Remove CRP\n",
    "crp_cols = ['crp1', 'crp2', 'crp3', 'crp4', 'crp5']\n",
    "for df in original:\n",
    "    df = df.drop(crp_cols, axis=1)\n",
    "    all_dfs.append(df)\n",
    "\n",
    "# Test Random Forest on All Datasets\n",
    "rfcs = []\n",
    "names = ['IBD vs. Healthy', 'UC vs. CD', 'CD vs. Healthy', 'UC vs Healthy']\n",
    "for i, df in enumerate(all_dfs):\n",
    "    X = df.iloc[:, :-1]\n",
    "    X = X.fillna(0)\n",
    "    y = df.loc[:, 'ibd_disease_code']\n",
    "    X_col_names = list(df.columns.values)\n",
    "    X_col_names = X_col_names[:-1]\n",
    "    y_col_name = ['disease_code']\n",
    "\n",
    "    # Train/Test Split\n",
    "    X_train, X_test, y_train, y_test = train_test_split(\n",
    "        X, y, test_size=0.25, random_state=42)\n",
    "    \n",
    "    rfc = RandomForestClassifier(random_state=42, n_estimators=160, max_features=5, max_depth=5, min_samples_leaf=10)\n",
    "    rfc.fit(X_train, y_train)\n",
    "    rfcs.append(rfc)\n",
    "    ax = plt.gca()\n",
    "    rfc_disp = RocCurveDisplay.from_estimator(rfc, X_test, y_test, ax=ax, name=names[i], alpha=0.8)\n",
    "    #rfc_disp.plot(ax=ax, alpha=0.8)\n",
    "plt.show()"
   ]
  },
  {
   "cell_type": "markdown",
   "metadata": {},
   "source": [
    "### Feature Importance IBD vs. Healthy (no CRP)"
   ]
  },
  {
   "cell_type": "code",
   "execution_count": null,
   "metadata": {},
   "outputs": [],
   "source": [
    "df = ibd_vs_healthy.drop(crp_cols, axis=1)\n",
    "\n",
    "X = df.iloc[:, :-1]\n",
    "X = X.fillna(0)\n",
    "y = df.loc[:, 'ibd_disease_code']\n",
    "X_col_names = list(df.columns.values)\n",
    "X_col_names = X_col_names[:-1]\n",
    "y_col_name = ['disease_code']\n",
    "\n",
    "X_train, X_test, y_train, y_test = train_test_split(\n",
    "    X, y, test_size=0.25, random_state=42)\n",
    "\n",
    "rfc = RandomForestClassifier(random_state=42, n_estimators=160, max_features=5, max_depth=5, min_samples_leaf=10)\n",
    "rfc.fit(X_train, y_train)\n",
    "\n",
    "feat_imp_df = pd.DataFrame({'feature': X_col_names\n",
    "                              ,'importance': rfc.feature_importances_})\\\n",
    "                            .sort_values('importance', ascending=False)\n",
    "\n",
    "sns.set_style('darkgrid')\n",
    "plt.figure(figsize=(10, 6))\n",
    "important_feats = feat_imp_df.sort_values('importance', ascending=False).reset_index()\n",
    "important_feats = important_feats.loc[:25, :]\n",
    "l = sns.barplot(x=important_feats['importance']\n",
    "            , y=important_feats['feature']\n",
    "            , color='purple').set(ylabel= \"Feature\", xlabel= \"Importance\", title=\"Healthy vs. IBD Patient RFC Model Feature Importance (no CRP)\")\n",
    "plt.savefig('/Users/emmadyer/Desktop/ibd_long_project/figures/tree_feature_barplots/nocrp_healthy_ibd_barplot.png', dpi=300)"
   ]
  },
  {
   "cell_type": "markdown",
   "metadata": {},
   "source": [
    "### Feature Importance UC vs. CD (no CRP)"
   ]
  },
  {
   "cell_type": "code",
   "execution_count": null,
   "metadata": {},
   "outputs": [],
   "source": [
    "df = uc_vs_cd.drop(crp_cols, axis=1)\n",
    "\n",
    "X = df.iloc[:, :-1]\n",
    "X = X.fillna(0)\n",
    "y = df.loc[:, 'ibd_disease_code']\n",
    "X_col_names = list(df.columns.values)\n",
    "X_col_names = X_col_names[:-1]\n",
    "y_col_name = ['disease_code']\n",
    "\n",
    "X_train, X_test, y_train, y_test = train_test_split(\n",
    "    X, y, test_size=0.25, random_state=42)\n",
    "\n",
    "rfc = RandomForestClassifier(random_state=42, n_estimators=160, max_features=5, max_depth=5, min_samples_leaf=10)\n",
    "rfc.fit(X_train, y_train)\n",
    "\n",
    "feat_imp_df = pd.DataFrame({'feature': X_col_names\n",
    "                              ,'importance': rfc.feature_importances_})\\\n",
    "                            .sort_values('importance', ascending=False)\n",
    "\n",
    "sns.set_style('darkgrid')\n",
    "plt.figure(figsize=(10, 6))\n",
    "important_feats = feat_imp_df.sort_values('importance', ascending=False).reset_index()\n",
    "important_feats = important_feats.loc[:25, :]\n",
    "l = sns.barplot(x=important_feats['importance']\n",
    "            , y=important_feats['feature']\n",
    "            , color='green').set(ylabel= \"Feature\", xlabel= \"Importance\", title=\"CD vs. UC Patient RFC Model Feature Importance (no CRP)\")\n",
    "plt.savefig('/Users/emmadyer/Desktop/ibd_long_project/figures/tree_feature_barplots/nocrp_cd_uc_barplot.png', dpi=300)"
   ]
  },
  {
   "cell_type": "markdown",
   "metadata": {},
   "source": [
    "### UC vs. Healthy (no CRP)"
   ]
  },
  {
   "cell_type": "code",
   "execution_count": null,
   "metadata": {},
   "outputs": [],
   "source": [
    "df = uc_vs_healthy.drop(crp_cols, axis=1)\n",
    "\n",
    "X = df.iloc[:, :-1]\n",
    "X = X.fillna(0)\n",
    "y = df.loc[:, 'ibd_disease_code']\n",
    "X_col_names = list(df.columns.values)\n",
    "X_col_names = X_col_names[:-1]\n",
    "y_col_name = ['disease_code']\n",
    "\n",
    "X_train, X_test, y_train, y_test = train_test_split(\n",
    "    X, y, test_size=0.25, random_state=42)\n",
    "\n",
    "rfc = RandomForestClassifier(random_state=42, n_estimators=160, max_features=5, max_depth=5, min_samples_leaf=10)\n",
    "rfc.fit(X_train, y_train)\n",
    "\n",
    "feat_imp_df = pd.DataFrame({'feature': X_col_names\n",
    "                              ,'importance': rfc.feature_importances_})\\\n",
    "                            .sort_values('importance', ascending=False)\n",
    "\n",
    "sns.set_style('darkgrid')\n",
    "plt.figure(figsize=(10, 6))\n",
    "important_feats = feat_imp_df.sort_values('importance', ascending=False).reset_index()\n",
    "important_feats = important_feats.loc[:25, :]\n",
    "l = sns.barplot(x=important_feats['importance']\n",
    "            , y=important_feats['feature']\n",
    "            , color='blue').set(ylabel= \"Feature\", xlabel= \"Importance\", title=\"UC vs. Healthy Patient RFC Model Feature Importance (no CRP)\")\n",
    "plt.savefig('/Users/emmadyer/Desktop/ibd_long_project/figures/tree_feature_barplots/nocrp_uc_healthy_barplot.png', dpi=300)"
   ]
  },
  {
   "cell_type": "markdown",
   "metadata": {},
   "source": [
    "### CD vs. Healthy (no CRP)"
   ]
  },
  {
   "cell_type": "code",
   "execution_count": null,
   "metadata": {},
   "outputs": [],
   "source": [
    "df = cd_vs_healthy.drop(crp_cols, axis=1)\n",
    "\n",
    "X = df.iloc[:, :-1]\n",
    "X = X.fillna(0)\n",
    "y = df.loc[:, 'ibd_disease_code']\n",
    "X_col_names = list(df.columns.values)\n",
    "X_col_names = X_col_names[:-1]\n",
    "y_col_name = ['disease_code']\n",
    "\n",
    "X_train, X_test, y_train, y_test = train_test_split(\n",
    "    X, y, test_size=0.25, random_state=42)\n",
    "\n",
    "rfc = RandomForestClassifier(random_state=42, n_estimators=160, max_features=5, max_depth=5, min_samples_leaf=10)\n",
    "rfc.fit(X_train, y_train)\n",
    "\n",
    "feat_imp_df = pd.DataFrame({'feature': X_col_names\n",
    "                              ,'importance': rfc.feature_importances_})\\\n",
    "                            .sort_values('importance', ascending=False)\n",
    "\n",
    "sns.set_style('darkgrid')\n",
    "plt.figure(figsize=(10, 6))\n",
    "important_feats = feat_imp_df.sort_values('importance', ascending=False).reset_index()\n",
    "important_feats = important_feats.loc[:25, :]\n",
    "l = sns.barplot(x=important_feats['importance']\n",
    "            , y=important_feats['feature']\n",
    "            , color='pink').set(ylabel= \"Feature\", xlabel= \"Importance\", title=\"CD vs. Healthy Patient RFC Model Feature Importance (no CRP)\")\n",
    "plt.savefig('/Users/emmadyer/Desktop/ibd_long_project/figures/tree_feature_barplots/nocrp_cd_healthy_barplot.png', dpi=300)"
   ]
  },
  {
   "cell_type": "code",
   "execution_count": null,
   "metadata": {},
   "outputs": [],
   "source": [
    "df = uc_vs_healthy\n",
    "\n",
    "X = df.iloc[:, :-1]\n",
    "X = X.fillna(0)\n",
    "y = df.loc[:, 'ibd_disease_code']\n",
    "X_col_names = list(df.columns.values)\n",
    "X_col_names = X_col_names[:-1]\n",
    "y_col_name = ['disease_code']\n",
    "\n",
    "# Train/Test Split\n",
    "X_train, X_test, y_train, y_test = train_test_split(\n",
    "    X, y, test_size=0.25, random_state=42)\n",
    "\n"
   ]
  },
  {
   "cell_type": "code",
   "execution_count": null,
   "metadata": {},
   "outputs": [],
   "source": [
    "ibd_train = len(y_train[y_train == 1])\n",
    "healthy_train = len(y_train[y_train == 0])\n",
    "print(\"IBD Patients in Training Data: \", ibd_train)\n",
    "print(\"Healthy Patients in Training Data: \", healthy_train)\n",
    "\n",
    "ibd_test = len(y_test[y_test == 1])\n",
    "healthy_test = len(y_test[y_test == 0])\n",
    "print(\"IBD Patients in Testing Data: \", ibd_test)\n",
    "print(\"Healthy Patients in Testing Data: \", healthy_test)\n"
   ]
  },
  {
   "cell_type": "markdown",
   "metadata": {},
   "source": [
    "### Model Comparisons"
   ]
  },
  {
   "cell_type": "code",
   "execution_count": null,
   "metadata": {},
   "outputs": [],
   "source": [
    "def test_models(df, plot_title, fig_name_path):\n",
    "    X = df.iloc[:, :-1]\n",
    "    X = X.fillna(0)\n",
    "    y = df.loc[:, 'ibd_disease_code']\n",
    "    X_col_names = list(df.columns.values)\n",
    "    X_col_names = X_col_names[:-1]\n",
    "    y_col_name = ['disease_code']\n",
    "\n",
    "    # Train/Test Split\n",
    "    X_train, X_test, y_train, y_test = train_test_split(\n",
    "        X, y, test_size=0.25, random_state=42)\n",
    "\n",
    "    names = [\n",
    "        \"Nearest Neighbors\",\n",
    "        \"Linear SVM\",\n",
    "        \"RBF SVM\",\n",
    "        \"Logistic Regression\",\n",
    "        \"Decision Tree\",\n",
    "        \"Random Forest\",\n",
    "        \"Neural Net\",\n",
    "        \"XGBoost\",\n",
    "        \"Naive Bayes\",\n",
    "        \"QDA\",\n",
    "    ]\n",
    "\n",
    "    classifiers = [\n",
    "        KNeighborsClassifier(3),\n",
    "        SVC(kernel=\"linear\", C=0.025),\n",
    "        SVC(gamma=2, C=1),\n",
    "        LogisticRegression(penalty='l2', max_iter=100, C=0.05, n_jobs=-1, random_state=42),\n",
    "        DecisionTreeClassifier(max_depth=5),\n",
    "        RandomForestClassifier(max_depth=5, n_estimators=10, max_features=1, n_jobs=-1),\n",
    "        MLPClassifier(alpha=1, max_iter=1000),\n",
    "        HistGradientBoostingClassifier(early_stopping=True, max_depth=5),\n",
    "        GaussianNB(),\n",
    "        QuadraticDiscriminantAnalysis(),\n",
    "    ]\n",
    "    i = 0\n",
    "    for name, clf in zip(names, classifiers):\n",
    "        clf.fit(X_train, y_train)\n",
    "        ax = plt.gca()\n",
    "        clf_disp = RocCurveDisplay.from_estimator(clf, X_test, y_test, ax=ax, name=names[i], alpha=0.8)\n",
    "        i+=1\n",
    "        print(i)\n",
    "    plt.title(plot_title)\n",
    "    #plt.figure(figsize=(10,6))\n",
    "    fig = plt.gcf()\n",
    "    fig.savefig(fig_name_path, dpi=300)"
   ]
  },
  {
   "cell_type": "code",
   "execution_count": null,
   "metadata": {},
   "outputs": [],
   "source": [
    "# IBD vs. Healthy (with CRP)\n",
    "df = ibd_vs_healthy\n",
    "fig_name_path = '/Users/emmadyer/Desktop/ibd_long_project/figures/model_figs/healthy_ibd_models.png'\n",
    "plot_title = 'IBD and Healthy Patient AUROC'\n",
    "\n",
    "test_models(ibd_vs_healthy, plot_title, fig_name_path)"
   ]
  },
  {
   "cell_type": "code",
   "execution_count": null,
   "metadata": {},
   "outputs": [],
   "source": [
    "# UC vs. CD (with CRP)\n",
    "fig_name_path = '/Users/emmadyer/Desktop/ibd_long_project/figures/model_figs/cd_uc_models.png'\n",
    "plot_title = 'CD and UC Patient AUROC'\n",
    "\n",
    "test_models(uc_vs_cd, plot_title, fig_name_path)"
   ]
  },
  {
   "cell_type": "code",
   "execution_count": null,
   "metadata": {},
   "outputs": [],
   "source": [
    "# UC vs. Healthy (with CRP)\n",
    "fig_name_path = '/Users/emmadyer/Desktop/ibd_long_project/figures/model_figs/uc_healthy_models.png'\n",
    "plot_title = 'UC and Healthy Patient AUROC'\n",
    "\n",
    "test_models(uc_vs_healthy, plot_title, fig_name_path)"
   ]
  },
  {
   "cell_type": "code",
   "execution_count": null,
   "metadata": {},
   "outputs": [],
   "source": [
    "# CD and Healthy (with CRP)\n",
    "fig_name_path = '/Users/emmadyer/Desktop/ibd_long_project/figures/model_figs/cd_healthy_models.png'\n",
    "plot_title = 'CD and Healthy Patient AUROC'\n",
    "\n",
    "test_models(cd_vs_healthy, plot_title, fig_name_path)"
   ]
  },
  {
   "cell_type": "code",
   "execution_count": null,
   "metadata": {},
   "outputs": [],
   "source": [
    "# IBD and Healthy (no CRP)\n",
    "crp_cols = ['crp1', 'crp2', 'crp3', 'crp4', 'crp5']\n",
    "\n",
    "df = ibd_vs_healthy.drop(crp_cols, axis=1)\n",
    "fig_name_path = '/Users/emmadyer/Desktop/ibd_long_project/figures/model_figs/nocrp_healthy_ibd_models.png'\n",
    "plot_title = 'IBD and Healthy Patient AUROC (no CRP)'\n",
    "\n",
    "test_models(df, plot_title, fig_name_path)"
   ]
  },
  {
   "cell_type": "code",
   "execution_count": null,
   "metadata": {},
   "outputs": [],
   "source": [
    "# UC vs. CD (no CRP)\n",
    "\n",
    "df = uc_vs_cd.drop(crp_cols, axis=1)\n",
    "fig_name_path = '/Users/emmadyer/Desktop/ibd_long_project/figures/model_figs/nocrp_cd_uc_models.png'\n",
    "plot_title = 'CD and UC Patient AUROC (no CRP)'\n",
    "\n",
    "test_models(df, plot_title, fig_name_path)"
   ]
  },
  {
   "cell_type": "code",
   "execution_count": null,
   "metadata": {},
   "outputs": [],
   "source": [
    "# UC vs. Healthy (no CRP)\n",
    "\n",
    "df = uc_vs_healthy.drop(crp_cols, axis=1)\n",
    "fig_name_path = '/Users/emmadyer/Desktop/ibd_long_project/figures/model_figs/nocrp_uc_healthy_models.png'\n",
    "plot_title = 'UC and Healthy Patient AUROC (no CRP)'\n",
    "\n",
    "test_models(df, plot_title, fig_name_path)"
   ]
  },
  {
   "cell_type": "code",
   "execution_count": null,
   "metadata": {},
   "outputs": [],
   "source": [
    "# CD and Healthy (no CRP)\n",
    "\n",
    "df = ibd_vs_healthy.drop(crp_cols, axis=1)\n",
    "fig_name_path = '/Users/emmadyer/Desktop/ibd_long_project/figures/model_figs/nocrp_cd_healthy_models.png'\n",
    "plot_title = 'CD and Healthy Patient AUROC (no CRP)'\n",
    "\n",
    "test_models(df, plot_title, fig_name_path)"
   ]
  },
  {
   "cell_type": "markdown",
   "metadata": {},
   "source": [
    "### Models without Years 1-2 Prior to Diagnosis"
   ]
  },
  {
   "cell_type": "code",
   "execution_count": null,
   "metadata": {},
   "outputs": [],
   "source": [
    "col_names = list(ibd_vs_healthy.columns.values)\n",
    "remove_years = []\n",
    "\n",
    "for c in col_names:\n",
    "    if c[-1] == '1' or c[-1] == '2':\n",
    "        remove_years.append(c)\n",
    "\n",
    "crp_remove = ['crp3', 'crp4', 'crp5']\n",
    "crp_and_years = remove_years + crp_remove"
   ]
  },
  {
   "cell_type": "code",
   "execution_count": null,
   "metadata": {},
   "outputs": [],
   "source": [
    "# IBD vs. Healthy (with CRP)\n",
    "df = ibd_vs_healthy.drop(remove_years, axis=1)\n",
    "fig_name_path = '/Users/emmadyer/Desktop/ibd_long_project/figures/model_figs/healthy_ibd_models_y35.png'\n",
    "plot_title = 'IBD and Healthy Patient AUROC 3-5 Years Prior to Diagnosis'\n",
    "\n",
    "test_models(df, plot_title, fig_name_path)"
   ]
  },
  {
   "cell_type": "code",
   "execution_count": null,
   "metadata": {},
   "outputs": [],
   "source": [
    "# UC vs. CD (with CRP)\n",
    "df = uc_vs_cd.drop(remove_years, axis=1)\n",
    "fig_name_path = '/Users/emmadyer/Desktop/ibd_long_project/figures/model_figs/cd_uc_models_y35.png'\n",
    "plot_title = 'CD and UC Patient AUROC 3-5 Years Prior to Diagnosis'\n",
    "\n",
    "test_models(df, plot_title, fig_name_path)"
   ]
  },
  {
   "cell_type": "code",
   "execution_count": null,
   "metadata": {},
   "outputs": [],
   "source": [
    "# UC vs. Healthy (with CRP)\n",
    "df = uc_vs_healthy.drop(remove_years, axis=1)\n",
    "fig_name_path = '/Users/emmadyer/Desktop/ibd_long_project/figures/model_figs/uc_healthy_models_y35.png'\n",
    "plot_title = 'UC and Healthy Patient AUROC 3-5 Years Prior to Diagnosis'\n",
    "\n",
    "test_models(uc_vs_healthy, plot_title, fig_name_path)"
   ]
  },
  {
   "cell_type": "code",
   "execution_count": null,
   "metadata": {},
   "outputs": [],
   "source": [
    "# CD and Healthy (with CRP)\n",
    "df = cd_vs_healthy.drop(remove_years, axis=1)\n",
    "fig_name_path = '/Users/emmadyer/Desktop/ibd_long_project/figures/model_figs/cd_healthy_models_y35.png'\n",
    "plot_title = 'CD and Healthy Patient AUROC 3-5 Years Prior to Diagnosis'\n",
    "\n",
    "test_models(df, plot_title, fig_name_path)"
   ]
  },
  {
   "cell_type": "code",
   "execution_count": null,
   "metadata": {},
   "outputs": [],
   "source": [
    "# IBD and Healthy (no CRP)\n",
    "\n",
    "df = ibd_vs_healthy.drop(crp_and_years, axis=1)\n",
    "fig_name_path = '/Users/emmadyer/Desktop/ibd_long_project/figures/model_figs/nocrp_healthy_ibd_models_y35.png'\n",
    "plot_title = 'IBD and Healthy Patient AUROC (no CRP) 3-5 Years Prior to Diagnosis'\n",
    "\n",
    "test_models(df, plot_title, fig_name_path)"
   ]
  },
  {
   "cell_type": "code",
   "execution_count": null,
   "metadata": {},
   "outputs": [],
   "source": [
    "# UC vs. CD (no CRP)\n",
    "\n",
    "df = uc_vs_cd.drop(crp_and_years, axis=1)\n",
    "fig_name_path = '/Users/emmadyer/Desktop/ibd_long_project/figures/model_figs/nocrp_cd_uc_models_y35.png'\n",
    "plot_title = 'CD and UC Patient AUROC (no CRP) 3-5 Years Prior to Diagnosis'\n",
    "\n",
    "test_models(df, plot_title, fig_name_path)"
   ]
  },
  {
   "cell_type": "code",
   "execution_count": null,
   "metadata": {},
   "outputs": [],
   "source": [
    "# UC vs. Healthy (no CRP)\n",
    "\n",
    "df = uc_vs_healthy.drop(crp_and_years, axis=1)\n",
    "fig_name_path = '/Users/emmadyer/Desktop/ibd_long_project/figures/model_figs/nocrp_uc_healthy_models_y35.png'\n",
    "plot_title = 'UC and Healthy Patient AUROC (no CRP) 3-5 Years Prior to Diagnosis'\n",
    "\n",
    "test_models(df, plot_title, fig_name_path)"
   ]
  },
  {
   "cell_type": "code",
   "execution_count": null,
   "metadata": {},
   "outputs": [],
   "source": [
    "# CD and Healthy (no CRP)\n",
    "\n",
    "df = ibd_vs_healthy.drop(crp_and_years, axis=1)\n",
    "fig_name_path = '/Users/emmadyer/Desktop/ibd_long_project/figures/model_figs/nocrp_cd_healthy_models_y35.png'\n",
    "plot_title = 'CD and Healthy Patient AUROC (no CRP) 3-5 Years Prior to Diagnosis'\n",
    "\n",
    "test_models(df, plot_title, fig_name_path)"
   ]
  },
  {
   "cell_type": "markdown",
   "metadata": {},
   "source": [
    "### Feature Importance for Years 3-5"
   ]
  },
  {
   "cell_type": "code",
   "execution_count": null,
   "metadata": {},
   "outputs": [],
   "source": [
    "file_names = [\n",
    "                'healthy_ibd',\n",
    "                'cd_uc',\n",
    "                'uc_healthy',\n",
    "                'cd_healthy',\n",
    "                'nocrp_healthy_ibd',\n",
    "                'nocrp_cd_uc',\n",
    "                'nocrp_uc_healthy',\n",
    "                'nocrp_cd_healthy']\n",
    "\n",
    "barplot_titles = [\n",
    "                    'Healthy vs. IBD Patient RFC Model Feature Importance: Years 3-5 Prior to Diagnosis (with CRP)',\n",
    "                    'CD vs. UC Patient RFC Model Feature Importance: Years 3-5 Prior to Diagnosis (with CRP)',\n",
    "                    'UC vs. Healthy Patient RFC Model Feature Importance: Years 3-5 Prior to Diagnosis (with CRP)',\n",
    "                    'CD vs. Healthy Patient RFC Model Feature Importance: Years 3-5 Prior to Diagnosis (with CRP)',\n",
    "                    'Healthy vs. IBD Patient RFC Model Feature Importance: Years 3-5 Prior to Diagnosis (no CRP)',\n",
    "                    'CD vs. UC Patient RFC Model Feature Importance: Years 3-5 Prior to Diagnosis (no CRP)',\n",
    "                    'UC vs. Healthy Patient RFC Model Feature Importance: Years 3-5 Prior to Diagnosis (no CRP)',\n",
    "                    'CD vs. Healthy Patient RFC Model Feature Importance: Years 3-5 Prior to Diagnosis (no CRP)']\n",
    "\n",
    "def get_feature_barplot(df, img_name, barplot_title, color):\n",
    "    X = df.iloc[:, :-1]\n",
    "    X = X.fillna(0)\n",
    "    y = df.loc[:, 'ibd_disease_code']\n",
    "    X_col_names = list(df.columns.values)\n",
    "    X_col_names = X_col_names[:-1]\n",
    "    y_col_name = ['disease_code']\n",
    "\n",
    "    X_train, X_test, y_train, y_test = train_test_split(\n",
    "        X, y, test_size=0.25, random_state=42)\n",
    "\n",
    "    rfc = RandomForestClassifier(random_state=42, n_estimators=160, max_features=5, max_depth=5, min_samples_leaf=10)\n",
    "    rfc.fit(X_train, y_train)\n",
    "\n",
    "    feat_imp_df = pd.DataFrame({'feature': X_col_names\n",
    "                                ,'importance': rfc.feature_importances_})\\\n",
    "                                .sort_values('importance', ascending=False)\n",
    "\n",
    "    sns.set_style('darkgrid')\n",
    "    plt.figure(figsize=(10, 6))\n",
    "    important_feats = feat_imp_df.sort_values('importance', ascending=False).reset_index()\n",
    "    important_feats = important_feats.loc[:25, :]\n",
    "    l = sns.barplot(x=important_feats['importance']\n",
    "                , y=important_feats['feature']\n",
    "                , color=color).set(ylabel= \"Feature\", xlabel= \"Importance\", title=barplot_title)\n",
    "    img_path = '/Users/emmadyer/Desktop/ibd_long_project/figures/tree_feature_barplots/' + img_name + '.png'\n",
    "    plt.savefig(img_path, dpi=300)\n",
    "    return"
   ]
  },
  {
   "cell_type": "code",
   "execution_count": null,
   "metadata": {},
   "outputs": [],
   "source": [
    "# Prep dataframes\n",
    "y35_ibd_vs_healthy = ibd_vs_healthy.drop(remove_years, axis=1)\n",
    "y35_uc_vs_cd = uc_vs_cd.drop(remove_years, axis=1)\n",
    "y35_uc_vs_healthy = uc_vs_healthy.drop(remove_years, axis=1)\n",
    "y35_cd_vs_healthy = cd_vs_healthy.drop(remove_years, axis=1)\n",
    "y35_nocrp_ibd_vs_healthy = ibd_vs_healthy.drop(crp_and_years, axis=1)\n",
    "y35_nocrp_uc_vs_cd = uc_vs_cd.drop(crp_and_years, axis=1)\n",
    "y35_nocrp_uc_vs_healthy = uc_vs_healthy.drop(crp_and_years, axis=1)\n",
    "y35_nocrp_cd_vs_healthy = cd_vs_healthy.drop(crp_and_years, axis=1)\n",
    "\n",
    "y35_dfs = [y35_ibd_vs_healthy,\n",
    "            y35_uc_vs_cd,\n",
    "            y35_uc_vs_healthy,\n",
    "            y35_cd_vs_healthy,\n",
    "            y35_nocrp_ibd_vs_healthy,\n",
    "            y35_nocrp_uc_vs_cd,\n",
    "            y35_nocrp_uc_vs_healthy,\n",
    "            y35_nocrp_cd_vs_healthy] \n",
    "\n",
    "colors = ['purple', 'green', 'blue', 'pink', 'purple', 'green', 'blue', 'pink']\n",
    "\n",
    "for i, df in enumerate(y35_dfs):\n",
    "    img_name = file_names[i] + 'y35_barplot'\n",
    "    barplot_title = barplot_titles[i]\n",
    "    color = colors[i]\n",
    "    get_feature_barplot(df, img_name, barplot_title, color)\n"
   ]
  },
  {
   "cell_type": "markdown",
   "metadata": {},
   "source": [
    "#### UMAP of the Datasets"
   ]
  },
  {
   "cell_type": "code",
   "execution_count": null,
   "metadata": {},
   "outputs": [],
   "source": [
    "import umap.umap_ as umap\n",
    "from sklearn.decomposition import PCA\n",
    "import sklearn.cluster as cluster\n",
    "from sklearn.metrics import adjusted_rand_score, adjusted_mutual_info_score"
   ]
  },
  {
   "cell_type": "code",
   "execution_count": null,
   "metadata": {},
   "outputs": [],
   "source": [
    "healthy_ibd_reducer = umap.UMAP()\n",
    "\n",
    "healthy_ibd = ibd_vs_healthy.iloc[:, :-1]\n",
    "em_healthy_ibd = healthy_ibd_reducer.fit_transform(healthy_ibd)\n",
    "em_healthy_ibd.shape"
   ]
  },
  {
   "cell_type": "code",
   "execution_count": null,
   "metadata": {},
   "outputs": [],
   "source": [
    "plt.scatter(\n",
    "    em_healthy_ibd[:, 0],\n",
    "    em_healthy_ibd[:, 1],\n",
    "    c = [sns.color_palette('husl')[x] for x in ibd_vs_healthy.ibd_disease_code.map({0:0, 1:1})],\n",
    "    s=0.1)\n",
    "plt.gca().set_aspect('equal', 'datalim')\n",
    "plt.title('UMAP of Healthy and IBD Patients', fontsize=16)\n",
    "plt.savefig('/Users/emmadyer/Desktop/ibd_long_project/figures/healthy_ibd_UMAP', dpi=300)"
   ]
  },
  {
   "cell_type": "code",
   "execution_count": null,
   "metadata": {},
   "outputs": [],
   "source": [
    "uc_cd_reducer = umap.UMAP()\n",
    "\n",
    "uc_cd = uc_vs_cd.iloc[:, :-1]\n",
    "em_uc_cd = uc_cd_reducer.fit_transform(uc_cd)\n",
    "em_uc_cd.shape"
   ]
  },
  {
   "cell_type": "code",
   "execution_count": null,
   "metadata": {},
   "outputs": [],
   "source": [
    "l = plt.scatter(\n",
    "    em_uc_cd[:, 0],\n",
    "    em_uc_cd[:, 1],\n",
    "    c = [sns.color_palette('husl')[x] for x in uc_vs_cd.ibd_disease_code.map({0:0, 1:1})],\n",
    "    s=2)\n",
    "plt.gca().set_aspect('equal', 'datalim')\n",
    "plt.legend(['CD'])\n",
    "plt.title('UMAP of UC and CD Patients', fontsize=16)\n",
    "plt.savefig('/Users/emmadyer/Desktop/ibd_long_project/figures/cd_uc_UMAP', dpi=300)"
   ]
  },
  {
   "cell_type": "code",
   "execution_count": null,
   "metadata": {},
   "outputs": [],
   "source": [
    "# Supervised UMAP\n",
    "uc_cd_reducer = umap.UMAP(densmap=True, random_state=42)\n",
    "\n",
    "uc_cd = uc_vs_cd.iloc[:, :-1]\n",
    "target = uc_vs_cd.loc[:, 'ibd_disease_code']\n",
    "em_uc_cd = uc_cd_reducer.fit_transform(uc_cd, y=target)\n",
    "\n",
    "plt.scatter(\n",
    "    em_uc_cd[:, 0],\n",
    "    em_uc_cd[:, 1],\n",
    "    c = uc_vs_cd.ibd_disease_code.astype(int),\n",
    "    s=0.1)\n",
    "plt.gca().set_aspect('equal', 'datalim')\n",
    "plt.title('UMAP of UC and CD Patients', fontsize=16)\n",
    "plt.savefig('/Users/emmadyer/Desktop/ibd_long_project/figures/cd_uc_umap.png', dpi=300)"
   ]
  },
  {
   "cell_type": "code",
   "execution_count": null,
   "metadata": {},
   "outputs": [],
   "source": [
    "# Supervised UMAP\n",
    "uc_cd_reducer = umap.UMAP(densmap=True, random_state=42)\n",
    "\n",
    "uc_cd = uc_vs_cd.iloc[:, :-1]\n",
    "target = uc_vs_cd.loc[:, 'ibd_disease_code']\n",
    "em_uc_cd = uc_cd_reducer.fit_transform(uc_cd, y=target)\n",
    "\n",
    "plt.scatter(\n",
    "    em_uc_cd[:, 0],\n",
    "    em_uc_cd[:, 1],\n",
    "    c = uc_vs_cd.alb1.astype(int),\n",
    "    s=0.1,\n",
    "    cmap='plasma')\n",
    "plt.gca().set_aspect('equal', 'datalim')\n",
    "plt.title('UMAP of UC and CD Patients', fontsize=16)\n",
    "plt.colorbar()\n",
    "#plt.savefig('/Users/emmadyer/Desktop/ibd_long_project/figures/cd_uc_umap.png', dpi=300)"
   ]
  }
 ],
 "metadata": {
  "kernelspec": {
   "display_name": "Python 3.9.7 ('base')",
   "language": "python",
   "name": "python3"
  },
  "language_info": {
   "codemirror_mode": {
    "name": "ipython",
    "version": 3
   },
   "file_extension": ".py",
   "mimetype": "text/x-python",
   "name": "python",
   "nbconvert_exporter": "python",
   "pygments_lexer": "ipython3",
   "version": "3.9.7"
  },
  "orig_nbformat": 4,
  "vscode": {
   "interpreter": {
    "hash": "96711745bd135041bebdc69b11ade48cf4fd7c95d608ba6b7c632f4af2a4dfe1"
   }
  }
 },
 "nbformat": 4,
 "nbformat_minor": 2
}
