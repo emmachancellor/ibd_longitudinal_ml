{
 "cells": [
  {
   "cell_type": "markdown",
   "metadata": {},
   "source": [
    "### Neptune Tutorial"
   ]
  },
  {
   "cell_type": "code",
   "execution_count": 12,
   "metadata": {},
   "outputs": [
    {
     "name": "stdout",
     "output_type": "stream",
     "text": [
      "https://app.neptune.ai/emmachancellor/Longitudinal-IBD/e/LON-4\n",
      "Remember to stop your run once you’ve finished logging your metadata (https://docs.neptune.ai/api/run#stop). It will be stopped automatically only when the notebook kernel/interactive console is terminated.\n"
     ]
    }
   ],
   "source": [
    "import neptune.new as neptune\n",
    "run = neptune.init_run(project='emmachancellor/Longitudinal-IBD', \n",
    "                       api_token='eyJhcGlfYWRkcmVzcyI6Imh0dHBzOi8vYXBwLm5lcHR1bmUuYWkiLCJhcGlfdXJsIjoiaHR0cHM6Ly9hcHAubmVwdHVuZS5haSIsImFwaV9rZXkiOiI3OWY4NTFhMC1hYmY1LTQ0NDQtOWE4ZS0zMDVhOGJlMjgyMTcifQ==')\n"
   ]
  },
  {
   "cell_type": "code",
   "execution_count": 13,
   "metadata": {},
   "outputs": [],
   "source": [
    "# Logging Hyperparameters\n",
    "run[\"algorithm\"] = \"ConvNet\" #this creates a field named 'algorithm' and assigns the string 'ConvNet' to it\n",
    "\n",
    "# Create a field of the appropriate type for each dictionary entry:\n",
    "params = {\n",
    "    \"activation\": \"sigmoid\",\n",
    "    \"dropout\": 0.25,\n",
    "    \"learning_rate\": 0.1,\n",
    "    \"n_epochs\": 100,\n",
    "}\n",
    "\n",
    "run[\"model/parameters\"] = params\n",
    "# Because of how the structure is specified ('model/parameters') the parameter fields \n",
    "# are stored in the 'parameters' namespace, nested under the 'model' namespace\n",
    "\n",
    "\n",
    "# Oops, what if I want to change an existing value?\n",
    "run[\"model/parameters/activation\"] = \"ReLU\"\n",
    "\n",
    "# Or add a new field: \n",
    "run[\"model/parameters/batch_size\"] = 64"
   ]
  },
  {
   "cell_type": "code",
   "execution_count": null,
   "metadata": {},
   "outputs": [],
   "source": [
    "# Log Metrics\n",
    "\n",
    "# Each log() call adds a new value to the series, so it's designed to be used in a loop\n",
    "for epoch in range(params[\"n_epochs\"]):\n",
    "    # this would normally be your training loop\n",
    "    run[\"train/loss\"].log(0.99**epoch)\n",
    "    run[\"train/acc\"].log(1.01**epoch)\n",
    "    run[\"eval/loss\"].log(0.98**epoch)\n",
    "    run[\"eval/acc\"].log(1.02**epoch)\n",
    "# This creates the namespaces 'train' and 'eval', each with a 'loss' and 'acc' field"
   ]
  },
  {
   "cell_type": "code",
   "execution_count": null,
   "metadata": {},
   "outputs": [],
   "source": [
    "# Track a data file\n",
    "\n",
    "# track_files() allows you to log metadata about any dataset, model, or other artifact stored in a file\n",
    "run[\"data_versions/train\"].track_files(\"sample.csv\")\n",
    "\n",
    "# This records metadata about the CSV file in the 'data_versions/train' field, which helps identify\n",
    "# the exact version of the file that was used for this run "
   ]
  },
  {
   "cell_type": "code",
   "execution_count": null,
   "metadata": {},
   "outputs": [],
   "source": [
    "# Upload a file\n",
    "\n",
    "# If you want to upload the file in full to neptune then use:\n",
    "run[\"data_sample\"].upload(\"sample.csv\")"
   ]
  },
  {
   "cell_type": "code",
   "execution_count": null,
   "metadata": {},
   "outputs": [],
   "source": [
    "# Stop the run\n",
    "\n",
    "# Record some value/finish analysis:\n",
    "run[\"f1_score\"] = 0.95\n",
    "\n",
    "# Now that we are finished logging, we can stop the run method\n",
    "run.stop()"
   ]
  },
  {
   "cell_type": "code",
   "execution_count": null,
   "metadata": {},
   "outputs": [],
   "source": []
  }
 ],
 "metadata": {
  "kernelspec": {
   "display_name": "Python 3.7.9 ('py37')",
   "language": "python",
   "name": "python3"
  },
  "language_info": {
   "codemirror_mode": {
    "name": "ipython",
    "version": 3
   },
   "file_extension": ".py",
   "mimetype": "text/x-python",
   "name": "python",
   "nbconvert_exporter": "python",
   "pygments_lexer": "ipython3",
   "version": "3.7.9"
  },
  "orig_nbformat": 4,
  "vscode": {
   "interpreter": {
    "hash": "723a964bb0aead0851d78ae64d6de99bdaf4f3c4f305be36213c7c02e14cf2bc"
   }
  }
 },
 "nbformat": 4,
 "nbformat_minor": 2
}
