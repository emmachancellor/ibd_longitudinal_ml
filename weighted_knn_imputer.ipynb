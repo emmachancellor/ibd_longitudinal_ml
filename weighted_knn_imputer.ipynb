{
 "cells": [
  {
   "cell_type": "code",
   "execution_count": 1,
   "metadata": {},
   "outputs": [],
   "source": [
    "import pandas as pd\n",
    "import numpy as np\n",
    "import seaborn as sns"
   ]
  },
  {
   "cell_type": "markdown",
   "metadata": {},
   "source": [
    "### Normalize the Data and Separate Patients into Individual Files"
   ]
  },
  {
   "cell_type": "code",
   "execution_count": 2,
   "metadata": {},
   "outputs": [],
   "source": [
    "# Load Datasets\n",
    "uc = pd.read_csv('/Users/emmadyer/Desktop/ibd_long_project/data/uc_expanded.csv')\n",
    "cd = pd.read_csv('/Users/emmadyer/Desktop/ibd_long_project/data/cd_expanded.csv')\n",
    "healthy = pd.read_csv('/Users/emmadyer/Desktop/ibd_long_project/data/healthy_expanded.csv')\n",
    "test_ibd = pd.read_csv('/Users/emmadyer/Desktop/ibd_long_project/data/test_ibd_expanded.csv')"
   ]
  },
  {
   "cell_type": "code",
   "execution_count": 3,
   "metadata": {},
   "outputs": [],
   "source": [
    "# Make a list of the lab values (column headers)\n",
    "lab_value_names = list(healthy.columns.values)\n",
    "lab_value_names = lab_value_names[1:-1]\n",
    "\n",
    "# Make a list of the DataFrames\n",
    "all_dfs = [uc, cd, healthy]"
   ]
  },
  {
   "cell_type": "code",
   "execution_count": 4,
   "metadata": {},
   "outputs": [],
   "source": [
    "# Normalize Each Patient's Data\n",
    "# Min/Max scaling [0,1] and account for missing values\n",
    "def minmax_scale(x, min, max):\n",
    "    ''' \n",
    "    Min/Max Scaler [0,1] that also handles when the max=min.\n",
    "    Inputs:\n",
    "    x (int) - Value to be normalized\n",
    "    min (int) - minmum value\n",
    "    max (int) - maximum value\n",
    "\n",
    "    Outputs:\n",
    "    norm (int) - normalized value [0,1]\n",
    "    '''\n",
    "    if min != max:\n",
    "        scaled = max - min\n",
    "    else:\n",
    "        scaled = 1\n",
    "    norm = (x - min) / scaled\n",
    "    return norm"
   ]
  },
  {
   "cell_type": "code",
   "execution_count": 5,
   "metadata": {},
   "outputs": [],
   "source": [
    "dataset_norms = []\n",
    "for df in all_dfs:\n",
    "    pts_lst = []\n",
    "    mean_norm_values = []\n",
    "    for lab in lab_value_names:\n",
    "        #print(\"Lab Name: \", lab)\n",
    "        values = df[lab].fillna(0)\n",
    "        #values = values.astype(np.float16)\n",
    "        min_lab = min(values)\n",
    "        #print(\"Minimum Value: \", min_lab)\n",
    "        max_lab = max(values)\n",
    "        #print(\"Maximum Value: \", max_lab)\n",
    "        mean_value = values.mean()\n",
    "        norm_lab_val = minmax_scale(mean_value, min_lab, max_lab)\n",
    "        #print('Scaled Value: ', norm_lab_val, '\\n')\n",
    "        mean_norm_values.append(norm_lab_val)\n",
    "    dataset_norms.append(mean_norm_values)"
   ]
  },
  {
   "cell_type": "code",
   "execution_count": 6,
   "metadata": {},
   "outputs": [
    {
     "name": "stdout",
     "output_type": "stream",
     "text": [
      "1688\n",
      "2197\n",
      "5415\n"
     ]
    }
   ],
   "source": [
    "# Need to calculate a mean normalized value in the event that a given patient only has one recorded value or no values.\n",
    "# Mean Noramlized Values\n",
    "\n",
    "# Lists to store patient normalized dataframes\n",
    "all_patients_lsts = []\n",
    "file_names = ['uc', 'cd', 'healthy']\n",
    "for pt_population, df in enumerate(all_dfs):\n",
    "    mean_norm_values = dataset_norms[pt_population]\n",
    "    patient_id_lst = list(df.patient_id.unique())\n",
    "    print(len(patient_id_lst))\n",
    "    for patient in patient_id_lst:\n",
    "        patient_df = df[df['patient_id'] == patient].reset_index()\n",
    "        # Patient Normalized Values\n",
    "        visits = list(range(0,5))\n",
    "        na_reference_df = patient_df.copy()\n",
    "        na_reference_df = na_reference_df.isnull()\n",
    "        #norm_df = patient_df.copy().reset_index()\n",
    "        for i, lab in enumerate(lab_value_names):\n",
    "            #print(\"\\n Lab Name: \", lab)\n",
    "            total_missing = patient_df[lab].isnull().sum()\n",
    "            if total_missing == 5: \n",
    "                continue\n",
    "            else:\n",
    "                values = patient_df[lab].fillna(0)\n",
    "                min_lab = min(values)\n",
    "                max_lab = max(values)\n",
    "                #print(\"Minimum Value: \", min_lab)\n",
    "                #print(\"Maximum Value: \", max_lab)\n",
    "                for v in visits:\n",
    "                    is_missing = na_reference_df.loc[v, lab]\n",
    "                    #print(\"Missing???: \", is_missing)\n",
    "                    if is_missing == False:\n",
    "                        value = patient_df.loc[v, lab]\n",
    "                        norm_val = minmax_scale(value, min_lab, max_lab)\n",
    "                        patient_df.loc[v, lab] = norm_val\n",
    "                    #print(\"Lab Value: \", value)\n",
    "                    #print('Scaled Value: ', norm_val)\n",
    "        pts_lst.append(patient_df)\n",
    "        file_path = '/Users/emmadyer/Desktop/ibd_long_project/data/' + file_names[pt_population] + '_pts/' + str(patient) + '.csv'\n",
    "        patient_df.to_csv(file_path, index=False)\n",
    "        #print(norm_df)\n",
    "    all_patients_lsts.append(pts_lst)\n",
    "        "
   ]
  },
  {
   "cell_type": "markdown",
   "metadata": {},
   "source": [
    "### Calculate Distance Correlation\n",
    "This is calculated on the whole dataset. We are solving for the distance between two vectors. In this case, we are calculating the distance correlation for the pairwise vectors for each analyte. "
   ]
  },
  {
   "cell_type": "markdown",
   "metadata": {},
   "source": []
  }
 ],
 "metadata": {
  "kernelspec": {
   "display_name": "Python 3.7.9 ('py37')",
   "language": "python",
   "name": "python3"
  },
  "language_info": {
   "codemirror_mode": {
    "name": "ipython",
    "version": 3
   },
   "file_extension": ".py",
   "mimetype": "text/x-python",
   "name": "python",
   "nbconvert_exporter": "python",
   "pygments_lexer": "ipython3",
   "version": "3.7.9"
  },
  "orig_nbformat": 4,
  "vscode": {
   "interpreter": {
    "hash": "723a964bb0aead0851d78ae64d6de99bdaf4f3c4f305be36213c7c02e14cf2bc"
   }
  }
 },
 "nbformat": 4,
 "nbformat_minor": 2
}
